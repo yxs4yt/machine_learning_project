{
 "cells": [
  {
   "cell_type": "markdown",
   "id": "75bed370",
   "metadata": {},
   "source": [
    "Methodology Overview \n",
    "\n",
    "The objective of this project is to predict whether an Amazon product will review will receive more than 5 helpful votes at the time the review is posted. Our approach is to use a binary classifciation model using variables that are known at the time of the posting, so that our model is reflective of a realistic situation. \n",
    "\n",
    "In the pvreious milestone, we had already cleaned and processed the data so that we could use it for analysis. We had removed variables such as \"image\" and \"style\" because they had too many missing variables which did not serve a good purpose for our model. All missing values in the \"vote\" column were turned into 0, which reflects a review that had received no helpful reviews. \n",
    "\n",
    "To define the target variable, we had a binary threshold of greater than 5 votes. Reviews that got more than 5 votes were deemed as \"helpful\" while those that received less than 5 votes were deemed as \"not helpful\". Text features were processed into numerical representations which were better suited for modeling. Numerical variables  such as star rating and review length were scaled as needed. \n",
    "\n",
    "Class imbalance were a major characteristic of the dataset, with the majority of the votes receiving less than 5 votes. To address this, we want to use class weighting to help mitigate the bias within the model from being too tipped one way. \n",
    "\n"
   ]
  },
  {
   "cell_type": "markdown",
   "id": "027f0a3d",
   "metadata": {},
   "source": []
  }
 ],
 "metadata": {
  "kernelspec": {
   "display_name": "Python 3",
   "language": "python",
   "name": "python3"
  },
  "language_info": {
   "codemirror_mode": {
    "name": "ipython",
    "version": 3
   },
   "file_extension": ".py",
   "mimetype": "text/x-python",
   "name": "python",
   "nbconvert_exporter": "python",
   "pygments_lexer": "ipython3",
   "version": "3.12.1"
  }
 },
 "nbformat": 4,
 "nbformat_minor": 5
}
