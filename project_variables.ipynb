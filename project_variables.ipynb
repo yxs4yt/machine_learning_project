{
 "cells": [
  {
   "cell_type": "code",
   "execution_count": null,
   "id": "235ca924",
   "metadata": {
    "vscode": {
     "languageId": "plaintext"
    }
   },
   "outputs": [],
   "source": [
    "The purpose of this project is to build a predictive algorithm to see how likely it is for an indivdual to be rearrested after release. "
   ]
  },
  {
   "cell_type": "code",
   "execution_count": null,
   "id": "d4a6dbce",
   "metadata": {
    "vscode": {
     "languageId": "plaintext"
    }
   },
   "outputs": [],
   "source": []
  }
 ],
 "metadata": {
  "language_info": {
   "name": "python"
  }
 },
 "nbformat": 4,
 "nbformat_minor": 5
}
